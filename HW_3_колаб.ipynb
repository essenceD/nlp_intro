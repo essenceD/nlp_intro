{
  "cells": [
    {
      "cell_type": "markdown",
      "id": "66467902-e4aa-4cbf-a31f-4f3e9bc4571f",
      "metadata": {
        "id": "66467902-e4aa-4cbf-a31f-4f3e9bc4571f"
      },
      "source": [
        "**Задача поиск похожих по эмбеддингам**\n",
        "Скачиваем датасет \n",
        "\n",
        "!wget https://github.com/ods-ai-ml4sg/proj_news_viz/releases/download/data/gazeta.csv.gz\n",
        "\n",
        "```\n",
        "# пример работы с ним \n",
        "from corus import load_ods_gazeta\n",
        "path = 'gazeta.csv.gz'\n",
        "records = load_ods_gazeta(path)\n",
        "next(records)\n",
        "```\n",
        "\n",
        "\n",
        "что надо сделать \n",
        "\n",
        "1. на основе word2vec/fasttext реализовать метод поиска ближайших статей\n",
        "(на вход метода должен приходить запрос (какой-то вопрос) и количество вариантов вывода к примеру 5-ть, ваш метод должен возвращать 5-ть ближайших статей к этому запросу)\n",
        "2. Проверить насколько хорошо работают подходы"
      ]
    },
    {
      "cell_type": "code",
      "source": [
        "!pip install natasha stop_words annoy"
      ],
      "metadata": {
        "colab": {
          "base_uri": "https://localhost:8080/"
        },
        "id": "t53rjuwWOsQg",
        "outputId": "aac1a143-31d4-4983-9201-db2fbb0b601f"
      },
      "id": "t53rjuwWOsQg",
      "execution_count": 17,
      "outputs": [
        {
          "output_type": "stream",
          "name": "stdout",
          "text": [
            "Looking in indexes: https://pypi.org/simple, https://us-python.pkg.dev/colab-wheels/public/simple/\n",
            "Requirement already satisfied: natasha in /usr/local/lib/python3.7/dist-packages (1.4.0)\n",
            "Requirement already satisfied: stop_words in /usr/local/lib/python3.7/dist-packages (2018.7.23)\n",
            "Requirement already satisfied: annoy in /usr/local/lib/python3.7/dist-packages (1.17.1)\n",
            "Requirement already satisfied: pymorphy2 in /usr/local/lib/python3.7/dist-packages (from natasha) (0.9.1)\n",
            "Requirement already satisfied: razdel>=0.5.0 in /usr/local/lib/python3.7/dist-packages (from natasha) (0.5.0)\n",
            "Requirement already satisfied: navec>=0.9.0 in /usr/local/lib/python3.7/dist-packages (from natasha) (0.10.0)\n",
            "Requirement already satisfied: yargy>=0.14.0 in /usr/local/lib/python3.7/dist-packages (from natasha) (0.15.0)\n",
            "Requirement already satisfied: ipymarkup>=0.8.0 in /usr/local/lib/python3.7/dist-packages (from natasha) (0.9.0)\n",
            "Requirement already satisfied: slovnet>=0.3.0 in /usr/local/lib/python3.7/dist-packages (from natasha) (0.5.0)\n",
            "Requirement already satisfied: intervaltree>=3 in /usr/local/lib/python3.7/dist-packages (from ipymarkup>=0.8.0->natasha) (3.1.0)\n",
            "Requirement already satisfied: sortedcontainers<3.0,>=2.0 in /usr/local/lib/python3.7/dist-packages (from intervaltree>=3->ipymarkup>=0.8.0->natasha) (2.4.0)\n",
            "Requirement already satisfied: numpy in /usr/local/lib/python3.7/dist-packages (from navec>=0.9.0->natasha) (1.21.6)\n",
            "Requirement already satisfied: docopt>=0.6 in /usr/local/lib/python3.7/dist-packages (from pymorphy2->natasha) (0.6.2)\n",
            "Requirement already satisfied: dawg-python>=0.7.1 in /usr/local/lib/python3.7/dist-packages (from pymorphy2->natasha) (0.7.2)\n",
            "Requirement already satisfied: pymorphy2-dicts-ru<3.0,>=2.4 in /usr/local/lib/python3.7/dist-packages (from pymorphy2->natasha) (2.4.417127.4579844)\n"
          ]
        }
      ]
    },
    {
      "cell_type": "code",
      "execution_count": 18,
      "id": "e9dbdd45-1f4d-42e1-a6f2-8e57a7238027",
      "metadata": {
        "id": "e9dbdd45-1f4d-42e1-a6f2-8e57a7238027"
      },
      "outputs": [],
      "source": [
        "import string\n",
        "import pickle\n",
        "import annoy\n",
        "import numpy as np\n",
        "import pandas as pd\n",
        "\n",
        "from pymorphy2 import MorphAnalyzer\n",
        "from stop_words import get_stop_words\n",
        "from gensim.models import Word2Vec, FastText"
      ]
    },
    {
      "cell_type": "code",
      "execution_count": 19,
      "id": "352ce5cf-cb3b-4b62-97c1-68f3ecc34f46",
      "metadata": {
        "colab": {
          "base_uri": "https://localhost:8080/"
        },
        "id": "352ce5cf-cb3b-4b62-97c1-68f3ecc34f46",
        "outputId": "6c23114b-7ff5-48a9-9b44-e4a733d89d04"
      },
      "outputs": [
        {
          "output_type": "stream",
          "name": "stdout",
          "text": [
            "tar (child): gazeta_jsonl.tar.gz: Cannot open: No such file or directory\n",
            "tar (child): Error is not recoverable: exiting now\n",
            "tar: Child returned status 2\n",
            "tar: Error is not recoverable: exiting now\n"
          ]
        }
      ],
      "source": [
        "!tar -xzvf gazeta_jsonl.tar.gz"
      ]
    },
    {
      "cell_type": "code",
      "execution_count": 20,
      "id": "3e73bc59-d65d-419d-8630-cfc5b9a827bc",
      "metadata": {
        "colab": {
          "base_uri": "https://localhost:8080/",
          "height": 337
        },
        "id": "3e73bc59-d65d-419d-8630-cfc5b9a827bc",
        "outputId": "17fe40b7-4b68-48ea-a267-af1b4ee0a938"
      },
      "outputs": [
        {
          "output_type": "execute_result",
          "data": {
            "text/plain": [
              "                                                 url  \\\n",
              "0  https://www.gazeta.ru/financial/2011/11/30/385...   \n",
              "1  https://www.gazeta.ru/business/2013/01/24/4939...   \n",
              "2  https://www.gazeta.ru/social/2018/02/06/116393...   \n",
              "3  https://www.gazeta.ru/business/2013/06/21/5388...   \n",
              "4  https://www.gazeta.ru/culture/2014/12/27/a_636...   \n",
              "\n",
              "                                                text  \\\n",
              "0  «По итогам 2011 года чистый отток может состав...   \n",
              "1  Российское подразделение интернет-корпорации G...   \n",
              "2  Басманный районный суд Москвы вечером 6 феврал...   \n",
              "3  Как повлияло вступление в ВТО на конкурентносп...   \n",
              "4  К третьему сезону «Голос» на Первом канале ста...   \n",
              "\n",
              "                                         title  \\\n",
              "0               Прогноз не успевает за оттоком   \n",
              "1                        Google закончил поиск   \n",
              "2  «Фигуранты дела могут давить на свидетелей»   \n",
              "3  «С последних традиционно «отжимают» больше»   \n",
              "4                  Третий «Голос» за Градского   \n",
              "\n",
              "                                             summary                date  \n",
              "0  В 2011 году из России уйдет $80 млрд, считают ... 2011-11-30 18:33:39  \n",
              "1  Юлия Соловьева, экс-директор холдинга «Профмед... 2013-01-24 18:20:09  \n",
              "2  Суд арестовал на два месяца четверых экс-чинов... 2018-02-06 21:21:14  \n",
              "3  Мнения предпринимателей по поводу вступления в... 2013-06-21 17:43:50  \n",
              "4  На Первом канале завершился третий сезон шоу «... 2014-12-27 01:10:01  "
            ],
            "text/html": [
              "\n",
              "  <div id=\"df-73466bd7-9b60-4d97-a297-e793451b4375\">\n",
              "    <div class=\"colab-df-container\">\n",
              "      <div>\n",
              "<style scoped>\n",
              "    .dataframe tbody tr th:only-of-type {\n",
              "        vertical-align: middle;\n",
              "    }\n",
              "\n",
              "    .dataframe tbody tr th {\n",
              "        vertical-align: top;\n",
              "    }\n",
              "\n",
              "    .dataframe thead th {\n",
              "        text-align: right;\n",
              "    }\n",
              "</style>\n",
              "<table border=\"1\" class=\"dataframe\">\n",
              "  <thead>\n",
              "    <tr style=\"text-align: right;\">\n",
              "      <th></th>\n",
              "      <th>url</th>\n",
              "      <th>text</th>\n",
              "      <th>title</th>\n",
              "      <th>summary</th>\n",
              "      <th>date</th>\n",
              "    </tr>\n",
              "  </thead>\n",
              "  <tbody>\n",
              "    <tr>\n",
              "      <th>0</th>\n",
              "      <td>https://www.gazeta.ru/financial/2011/11/30/385...</td>\n",
              "      <td>«По итогам 2011 года чистый отток может состав...</td>\n",
              "      <td>Прогноз не успевает за оттоком</td>\n",
              "      <td>В 2011 году из России уйдет $80 млрд, считают ...</td>\n",
              "      <td>2011-11-30 18:33:39</td>\n",
              "    </tr>\n",
              "    <tr>\n",
              "      <th>1</th>\n",
              "      <td>https://www.gazeta.ru/business/2013/01/24/4939...</td>\n",
              "      <td>Российское подразделение интернет-корпорации G...</td>\n",
              "      <td>Google закончил поиск</td>\n",
              "      <td>Юлия Соловьева, экс-директор холдинга «Профмед...</td>\n",
              "      <td>2013-01-24 18:20:09</td>\n",
              "    </tr>\n",
              "    <tr>\n",
              "      <th>2</th>\n",
              "      <td>https://www.gazeta.ru/social/2018/02/06/116393...</td>\n",
              "      <td>Басманный районный суд Москвы вечером 6 феврал...</td>\n",
              "      <td>«Фигуранты дела могут давить на свидетелей»</td>\n",
              "      <td>Суд арестовал на два месяца четверых экс-чинов...</td>\n",
              "      <td>2018-02-06 21:21:14</td>\n",
              "    </tr>\n",
              "    <tr>\n",
              "      <th>3</th>\n",
              "      <td>https://www.gazeta.ru/business/2013/06/21/5388...</td>\n",
              "      <td>Как повлияло вступление в ВТО на конкурентносп...</td>\n",
              "      <td>«С последних традиционно «отжимают» больше»</td>\n",
              "      <td>Мнения предпринимателей по поводу вступления в...</td>\n",
              "      <td>2013-06-21 17:43:50</td>\n",
              "    </tr>\n",
              "    <tr>\n",
              "      <th>4</th>\n",
              "      <td>https://www.gazeta.ru/culture/2014/12/27/a_636...</td>\n",
              "      <td>К третьему сезону «Голос» на Первом канале ста...</td>\n",
              "      <td>Третий «Голос» за Градского</td>\n",
              "      <td>На Первом канале завершился третий сезон шоу «...</td>\n",
              "      <td>2014-12-27 01:10:01</td>\n",
              "    </tr>\n",
              "  </tbody>\n",
              "</table>\n",
              "</div>\n",
              "      <button class=\"colab-df-convert\" onclick=\"convertToInteractive('df-73466bd7-9b60-4d97-a297-e793451b4375')\"\n",
              "              title=\"Convert this dataframe to an interactive table.\"\n",
              "              style=\"display:none;\">\n",
              "        \n",
              "  <svg xmlns=\"http://www.w3.org/2000/svg\" height=\"24px\"viewBox=\"0 0 24 24\"\n",
              "       width=\"24px\">\n",
              "    <path d=\"M0 0h24v24H0V0z\" fill=\"none\"/>\n",
              "    <path d=\"M18.56 5.44l.94 2.06.94-2.06 2.06-.94-2.06-.94-.94-2.06-.94 2.06-2.06.94zm-11 1L8.5 8.5l.94-2.06 2.06-.94-2.06-.94L8.5 2.5l-.94 2.06-2.06.94zm10 10l.94 2.06.94-2.06 2.06-.94-2.06-.94-.94-2.06-.94 2.06-2.06.94z\"/><path d=\"M17.41 7.96l-1.37-1.37c-.4-.4-.92-.59-1.43-.59-.52 0-1.04.2-1.43.59L10.3 9.45l-7.72 7.72c-.78.78-.78 2.05 0 2.83L4 21.41c.39.39.9.59 1.41.59.51 0 1.02-.2 1.41-.59l7.78-7.78 2.81-2.81c.8-.78.8-2.07 0-2.86zM5.41 20L4 18.59l7.72-7.72 1.47 1.35L5.41 20z\"/>\n",
              "  </svg>\n",
              "      </button>\n",
              "      \n",
              "  <style>\n",
              "    .colab-df-container {\n",
              "      display:flex;\n",
              "      flex-wrap:wrap;\n",
              "      gap: 12px;\n",
              "    }\n",
              "\n",
              "    .colab-df-convert {\n",
              "      background-color: #E8F0FE;\n",
              "      border: none;\n",
              "      border-radius: 50%;\n",
              "      cursor: pointer;\n",
              "      display: none;\n",
              "      fill: #1967D2;\n",
              "      height: 32px;\n",
              "      padding: 0 0 0 0;\n",
              "      width: 32px;\n",
              "    }\n",
              "\n",
              "    .colab-df-convert:hover {\n",
              "      background-color: #E2EBFA;\n",
              "      box-shadow: 0px 1px 2px rgba(60, 64, 67, 0.3), 0px 1px 3px 1px rgba(60, 64, 67, 0.15);\n",
              "      fill: #174EA6;\n",
              "    }\n",
              "\n",
              "    [theme=dark] .colab-df-convert {\n",
              "      background-color: #3B4455;\n",
              "      fill: #D2E3FC;\n",
              "    }\n",
              "\n",
              "    [theme=dark] .colab-df-convert:hover {\n",
              "      background-color: #434B5C;\n",
              "      box-shadow: 0px 1px 3px 1px rgba(0, 0, 0, 0.15);\n",
              "      filter: drop-shadow(0px 1px 2px rgba(0, 0, 0, 0.3));\n",
              "      fill: #FFFFFF;\n",
              "    }\n",
              "  </style>\n",
              "\n",
              "      <script>\n",
              "        const buttonEl =\n",
              "          document.querySelector('#df-73466bd7-9b60-4d97-a297-e793451b4375 button.colab-df-convert');\n",
              "        buttonEl.style.display =\n",
              "          google.colab.kernel.accessAllowed ? 'block' : 'none';\n",
              "\n",
              "        async function convertToInteractive(key) {\n",
              "          const element = document.querySelector('#df-73466bd7-9b60-4d97-a297-e793451b4375');\n",
              "          const dataTable =\n",
              "            await google.colab.kernel.invokeFunction('convertToInteractive',\n",
              "                                                     [key], {});\n",
              "          if (!dataTable) return;\n",
              "\n",
              "          const docLinkHtml = 'Like what you see? Visit the ' +\n",
              "            '<a target=\"_blank\" href=https://colab.research.google.com/notebooks/data_table.ipynb>data table notebook</a>'\n",
              "            + ' to learn more about interactive tables.';\n",
              "          element.innerHTML = '';\n",
              "          dataTable['output_type'] = 'display_data';\n",
              "          await google.colab.output.renderOutput(dataTable, element);\n",
              "          const docLink = document.createElement('div');\n",
              "          docLink.innerHTML = docLinkHtml;\n",
              "          element.appendChild(docLink);\n",
              "        }\n",
              "      </script>\n",
              "    </div>\n",
              "  </div>\n",
              "  "
            ]
          },
          "metadata": {},
          "execution_count": 20
        }
      ],
      "source": [
        "# Создадим датафрейм на основе всех доступных данных.\n",
        "df_train = pd.read_json(path_or_buf='/content/gazeta_train.jsonl', lines=True)\n",
        "df_val = pd.read_json(path_or_buf='/content/gazeta_val.jsonl', lines=True)\n",
        "df_test = pd.read_json(path_or_buf='/content/gazeta_test.jsonl', lines=True)\n",
        "\n",
        "df = pd.concat([df_train, df_val, df_test], ignore_index=True)\n",
        "df.head()"
      ]
    },
    {
      "cell_type": "code",
      "execution_count": 21,
      "id": "b5622385-f663-42c6-b691-665abbb5885f",
      "metadata": {
        "id": "b5622385-f663-42c6-b691-665abbb5885f"
      },
      "outputs": [],
      "source": [
        "# В качестве основы для обучения моделей будет использовать столбец с саммари статей, \n",
        "# так как он отражает общую суть материалов, но при этом значительно короче, а значит обучение будет"
      ]
    },
    {
      "cell_type": "code",
      "execution_count": 22,
      "id": "edf3b27f-8a80-40f2-a5c0-9480d6278bb2",
      "metadata": {
        "colab": {
          "base_uri": "https://localhost:8080/"
        },
        "id": "edf3b27f-8a80-40f2-a5c0-9480d6278bb2",
        "outputId": "588e56d7-b97d-4280-b28d-e8197bf78c45"
      },
      "outputs": [
        {
          "output_type": "stream",
          "name": "stdout",
          "text": [
            "Средняя длина текста статьи - 4519 слов.\n",
            "Средняя длина саммари - 312 слов.\n"
          ]
        }
      ],
      "source": [
        "text_lengths = df['text'].apply(len)\n",
        "summary_lengths = df['summary'].apply(len)\n",
        "\n",
        "print(f'Средняя длина текста статьи - {np.average(text_lengths):.0f} слов.')\n",
        "print(f'Средняя длина саммари - {np.average(summary_lengths):.0f} слов.')"
      ]
    },
    {
      "cell_type": "code",
      "execution_count": 23,
      "id": "8e45735a-5f88-4063-ac56-57b88ee4d7e5",
      "metadata": {
        "colab": {
          "base_uri": "https://localhost:8080/",
          "height": 354
        },
        "id": "8e45735a-5f88-4063-ac56-57b88ee4d7e5",
        "outputId": "a4f61b66-2923-4354-806a-f02c60f3e1c2"
      },
      "outputs": [
        {
          "output_type": "execute_result",
          "data": {
            "text/plain": [
              "                                                 url  \\\n",
              "0  https://www.gazeta.ru/financial/2011/11/30/385...   \n",
              "1  https://www.gazeta.ru/business/2013/01/24/4939...   \n",
              "2  https://www.gazeta.ru/social/2018/02/06/116393...   \n",
              "3  https://www.gazeta.ru/business/2013/06/21/5388...   \n",
              "4  https://www.gazeta.ru/culture/2014/12/27/a_636...   \n",
              "\n",
              "                                                text  \\\n",
              "0  «По итогам 2011 года чистый отток может состав...   \n",
              "1  Российское подразделение интернет-корпорации G...   \n",
              "2  Басманный районный суд Москвы вечером 6 феврал...   \n",
              "3  Как повлияло вступление в ВТО на конкурентносп...   \n",
              "4  К третьему сезону «Голос» на Первом канале ста...   \n",
              "\n",
              "                                         title  \\\n",
              "0               Прогноз не успевает за оттоком   \n",
              "1                        Google закончил поиск   \n",
              "2  «Фигуранты дела могут давить на свидетелей»   \n",
              "3  «С последних традиционно «отжимают» больше»   \n",
              "4                  Третий «Голос» за Градского   \n",
              "\n",
              "                                             summary                date  \\\n",
              "0  В 2011 году из России уйдет $80 млрд, считают ... 2011-11-30 18:33:39   \n",
              "1  Юлия Соловьева, экс-директор холдинга «Профмед... 2013-01-24 18:20:09   \n",
              "2  Суд арестовал на два месяца четверых экс-чинов... 2018-02-06 21:21:14   \n",
              "3  Мнения предпринимателей по поводу вступления в... 2013-06-21 17:43:50   \n",
              "4  На Первом канале завершился третий сезон шоу «... 2014-12-27 01:10:01   \n",
              "\n",
              "                                preprocessed_summary  \n",
              "0  [2011, россия, уйти, 80, млрд, считать, минэко...  \n",
              "1  [юлия, соловьёв, эксдиректор, холдинг, «профме...  \n",
              "2  [суд, арестовать, месяц, четверо, эксчиновник,...  \n",
              "3  [мнение, предприниматель, повод, вступление, в...  \n",
              "4  [канал, завершиться, сезон, шоу, «голос», побе...  "
            ],
            "text/html": [
              "\n",
              "  <div id=\"df-b88f8ff9-d929-4d89-8916-736f2a76b9bb\">\n",
              "    <div class=\"colab-df-container\">\n",
              "      <div>\n",
              "<style scoped>\n",
              "    .dataframe tbody tr th:only-of-type {\n",
              "        vertical-align: middle;\n",
              "    }\n",
              "\n",
              "    .dataframe tbody tr th {\n",
              "        vertical-align: top;\n",
              "    }\n",
              "\n",
              "    .dataframe thead th {\n",
              "        text-align: right;\n",
              "    }\n",
              "</style>\n",
              "<table border=\"1\" class=\"dataframe\">\n",
              "  <thead>\n",
              "    <tr style=\"text-align: right;\">\n",
              "      <th></th>\n",
              "      <th>url</th>\n",
              "      <th>text</th>\n",
              "      <th>title</th>\n",
              "      <th>summary</th>\n",
              "      <th>date</th>\n",
              "      <th>preprocessed_summary</th>\n",
              "    </tr>\n",
              "  </thead>\n",
              "  <tbody>\n",
              "    <tr>\n",
              "      <th>0</th>\n",
              "      <td>https://www.gazeta.ru/financial/2011/11/30/385...</td>\n",
              "      <td>«По итогам 2011 года чистый отток может состав...</td>\n",
              "      <td>Прогноз не успевает за оттоком</td>\n",
              "      <td>В 2011 году из России уйдет $80 млрд, считают ...</td>\n",
              "      <td>2011-11-30 18:33:39</td>\n",
              "      <td>[2011, россия, уйти, 80, млрд, считать, минэко...</td>\n",
              "    </tr>\n",
              "    <tr>\n",
              "      <th>1</th>\n",
              "      <td>https://www.gazeta.ru/business/2013/01/24/4939...</td>\n",
              "      <td>Российское подразделение интернет-корпорации G...</td>\n",
              "      <td>Google закончил поиск</td>\n",
              "      <td>Юлия Соловьева, экс-директор холдинга «Профмед...</td>\n",
              "      <td>2013-01-24 18:20:09</td>\n",
              "      <td>[юлия, соловьёв, эксдиректор, холдинг, «профме...</td>\n",
              "    </tr>\n",
              "    <tr>\n",
              "      <th>2</th>\n",
              "      <td>https://www.gazeta.ru/social/2018/02/06/116393...</td>\n",
              "      <td>Басманный районный суд Москвы вечером 6 феврал...</td>\n",
              "      <td>«Фигуранты дела могут давить на свидетелей»</td>\n",
              "      <td>Суд арестовал на два месяца четверых экс-чинов...</td>\n",
              "      <td>2018-02-06 21:21:14</td>\n",
              "      <td>[суд, арестовать, месяц, четверо, эксчиновник,...</td>\n",
              "    </tr>\n",
              "    <tr>\n",
              "      <th>3</th>\n",
              "      <td>https://www.gazeta.ru/business/2013/06/21/5388...</td>\n",
              "      <td>Как повлияло вступление в ВТО на конкурентносп...</td>\n",
              "      <td>«С последних традиционно «отжимают» больше»</td>\n",
              "      <td>Мнения предпринимателей по поводу вступления в...</td>\n",
              "      <td>2013-06-21 17:43:50</td>\n",
              "      <td>[мнение, предприниматель, повод, вступление, в...</td>\n",
              "    </tr>\n",
              "    <tr>\n",
              "      <th>4</th>\n",
              "      <td>https://www.gazeta.ru/culture/2014/12/27/a_636...</td>\n",
              "      <td>К третьему сезону «Голос» на Первом канале ста...</td>\n",
              "      <td>Третий «Голос» за Градского</td>\n",
              "      <td>На Первом канале завершился третий сезон шоу «...</td>\n",
              "      <td>2014-12-27 01:10:01</td>\n",
              "      <td>[канал, завершиться, сезон, шоу, «голос», побе...</td>\n",
              "    </tr>\n",
              "  </tbody>\n",
              "</table>\n",
              "</div>\n",
              "      <button class=\"colab-df-convert\" onclick=\"convertToInteractive('df-b88f8ff9-d929-4d89-8916-736f2a76b9bb')\"\n",
              "              title=\"Convert this dataframe to an interactive table.\"\n",
              "              style=\"display:none;\">\n",
              "        \n",
              "  <svg xmlns=\"http://www.w3.org/2000/svg\" height=\"24px\"viewBox=\"0 0 24 24\"\n",
              "       width=\"24px\">\n",
              "    <path d=\"M0 0h24v24H0V0z\" fill=\"none\"/>\n",
              "    <path d=\"M18.56 5.44l.94 2.06.94-2.06 2.06-.94-2.06-.94-.94-2.06-.94 2.06-2.06.94zm-11 1L8.5 8.5l.94-2.06 2.06-.94-2.06-.94L8.5 2.5l-.94 2.06-2.06.94zm10 10l.94 2.06.94-2.06 2.06-.94-2.06-.94-.94-2.06-.94 2.06-2.06.94z\"/><path d=\"M17.41 7.96l-1.37-1.37c-.4-.4-.92-.59-1.43-.59-.52 0-1.04.2-1.43.59L10.3 9.45l-7.72 7.72c-.78.78-.78 2.05 0 2.83L4 21.41c.39.39.9.59 1.41.59.51 0 1.02-.2 1.41-.59l7.78-7.78 2.81-2.81c.8-.78.8-2.07 0-2.86zM5.41 20L4 18.59l7.72-7.72 1.47 1.35L5.41 20z\"/>\n",
              "  </svg>\n",
              "      </button>\n",
              "      \n",
              "  <style>\n",
              "    .colab-df-container {\n",
              "      display:flex;\n",
              "      flex-wrap:wrap;\n",
              "      gap: 12px;\n",
              "    }\n",
              "\n",
              "    .colab-df-convert {\n",
              "      background-color: #E8F0FE;\n",
              "      border: none;\n",
              "      border-radius: 50%;\n",
              "      cursor: pointer;\n",
              "      display: none;\n",
              "      fill: #1967D2;\n",
              "      height: 32px;\n",
              "      padding: 0 0 0 0;\n",
              "      width: 32px;\n",
              "    }\n",
              "\n",
              "    .colab-df-convert:hover {\n",
              "      background-color: #E2EBFA;\n",
              "      box-shadow: 0px 1px 2px rgba(60, 64, 67, 0.3), 0px 1px 3px 1px rgba(60, 64, 67, 0.15);\n",
              "      fill: #174EA6;\n",
              "    }\n",
              "\n",
              "    [theme=dark] .colab-df-convert {\n",
              "      background-color: #3B4455;\n",
              "      fill: #D2E3FC;\n",
              "    }\n",
              "\n",
              "    [theme=dark] .colab-df-convert:hover {\n",
              "      background-color: #434B5C;\n",
              "      box-shadow: 0px 1px 3px 1px rgba(0, 0, 0, 0.15);\n",
              "      filter: drop-shadow(0px 1px 2px rgba(0, 0, 0, 0.3));\n",
              "      fill: #FFFFFF;\n",
              "    }\n",
              "  </style>\n",
              "\n",
              "      <script>\n",
              "        const buttonEl =\n",
              "          document.querySelector('#df-b88f8ff9-d929-4d89-8916-736f2a76b9bb button.colab-df-convert');\n",
              "        buttonEl.style.display =\n",
              "          google.colab.kernel.accessAllowed ? 'block' : 'none';\n",
              "\n",
              "        async function convertToInteractive(key) {\n",
              "          const element = document.querySelector('#df-b88f8ff9-d929-4d89-8916-736f2a76b9bb');\n",
              "          const dataTable =\n",
              "            await google.colab.kernel.invokeFunction('convertToInteractive',\n",
              "                                                     [key], {});\n",
              "          if (!dataTable) return;\n",
              "\n",
              "          const docLinkHtml = 'Like what you see? Visit the ' +\n",
              "            '<a target=\"_blank\" href=https://colab.research.google.com/notebooks/data_table.ipynb>data table notebook</a>'\n",
              "            + ' to learn more about interactive tables.';\n",
              "          element.innerHTML = '';\n",
              "          dataTable['output_type'] = 'display_data';\n",
              "          await google.colab.output.renderOutput(dataTable, element);\n",
              "          const docLink = document.createElement('div');\n",
              "          docLink.innerHTML = docLinkHtml;\n",
              "          element.appendChild(docLink);\n",
              "        }\n",
              "      </script>\n",
              "    </div>\n",
              "  </div>\n",
              "  "
            ]
          },
          "metadata": {},
          "execution_count": 23
        }
      ],
      "source": [
        "morpher = MorphAnalyzer()\n",
        "stopwords = set(get_stop_words(\"ru\"))\n",
        "punkt = set(string.punctuation)\n",
        "\n",
        "def preprocess_txt(line, morpher=morpher, sw=stopwords, punkt=punkt):\n",
        "    spls = \"\".join(i for i in line.strip() if i not in punkt).split()\n",
        "    spls = [morpher.parse(i.lower())[0].normal_form for i in spls]\n",
        "    spls = [i for i in spls if i not in sw and i != \"\"]\n",
        "    return spls\n",
        "\n",
        "df['preprocessed_summary'] = df['summary'].apply(preprocess_txt)\n",
        "df.head()"
      ]
    },
    {
      "cell_type": "code",
      "execution_count": 24,
      "id": "854531c8-e4cb-4a86-a4bd-7b7e80bb499e",
      "metadata": {
        "id": "854531c8-e4cb-4a86-a4bd-7b7e80bb499e"
      },
      "outputs": [],
      "source": [
        "# Создадим модели на основе массива предобработанных саммари статей"
      ]
    },
    {
      "cell_type": "code",
      "execution_count": 28,
      "id": "60f84ba1-c38c-40b5-9c99-e20b3312987c",
      "metadata": {
        "id": "60f84ba1-c38c-40b5-9c99-e20b3312987c"
      },
      "outputs": [],
      "source": [
        "window_size = 5\n",
        "vector_size = 300\n",
        "\n",
        "modelW2V = Word2Vec(sentences=df['preprocessed_summary'], \n",
        "                    size=vector_size,\n",
        "                    window=window_size, \n",
        "                    min_count=1\n",
        "                    )\n",
        "modelFT = FastText(sentences=df['preprocessed_summary'], \n",
        "                   size=vector_size, \n",
        "                   window=window_size, \n",
        "                   min_count=1\n",
        "                   )"
      ]
    },
    {
      "cell_type": "code",
      "execution_count": 29,
      "id": "fa294f72-3873-467e-899a-99059aee9cb5",
      "metadata": {
        "colab": {
          "base_uri": "https://localhost:8080/"
        },
        "id": "fa294f72-3873-467e-899a-99059aee9cb5",
        "outputId": "116b34e3-1fd4-4e60-fc98-5dcbddcc9acd"
      },
      "outputs": [
        {
          "output_type": "execute_result",
          "data": {
            "text/plain": [
              "True"
            ]
          },
          "metadata": {},
          "execution_count": 29
        }
      ],
      "source": [
        "w2v_index = annoy.AnnoyIndex(vector_size, 'angular')\n",
        "ft_index = annoy.AnnoyIndex(vector_size, 'angular')\n",
        "\n",
        "index_map = {}\n",
        "counter = 0\n",
        "\n",
        "\n",
        "for i in range(len(df['preprocessed_summary'])):\n",
        "    n_w2v = 0\n",
        "    n_ft = 0\n",
        "    index_map[i] = df['text'][i]\n",
        "    \n",
        "    vector_w2v = np.zeros(vector_size)\n",
        "    vector_ft = np.zeros(vector_size)\n",
        "    for word in df['preprocessed_summary'][i]:\n",
        "        if word in modelW2V.wv:\n",
        "            vector_w2v += modelW2V.wv[word]\n",
        "            n_w2v += 1\n",
        "        if word in modelFT.wv:\n",
        "            vector_ft += modelFT.wv[word]\n",
        "            n_ft += 1\n",
        "    if n_w2v > 0:\n",
        "        vector_w2v = vector_w2v / n_w2v\n",
        "    if n_ft > 0:\n",
        "        vector_ft = vector_ft / n_ft\n",
        "    w2v_index.add_item(i, vector_w2v)\n",
        "    ft_index.add_item(i, vector_ft)\n",
        "\n",
        "\n",
        "w2v_index.build(10)\n",
        "ft_index.build(10)"
      ]
    },
    {
      "cell_type": "code",
      "execution_count": 30,
      "id": "d876140c-ceee-4471-87e5-466f0602b30f",
      "metadata": {
        "id": "d876140c-ceee-4471-87e5-466f0602b30f"
      },
      "outputs": [],
      "source": [
        "def get_response(question, index, model, index_map, nn=5):\n",
        "    question = preprocess_txt(question)\n",
        "    vector = np.zeros(300)\n",
        "    norm = 0\n",
        "    for word in question:\n",
        "        if word in model.wv:\n",
        "            vector += model.wv[word]\n",
        "            norm += 1\n",
        "    if norm > 0:\n",
        "        vector = vector / norm\n",
        "    answers = index.get_nns_by_vector(vector, nn, )\n",
        "    return [index_map[i] for i in answers]"
      ]
    },
    {
      "cell_type": "code",
      "source": [
        "TEXT = \"Футбольные фанаты устроили беспорядки\""
      ],
      "metadata": {
        "id": "neDxJvuoon89"
      },
      "id": "neDxJvuoon89",
      "execution_count": 31,
      "outputs": []
    },
    {
      "cell_type": "code",
      "source": [
        "get_response(TEXT, w2v_index, modelW2V, index_map)"
      ],
      "metadata": {
        "colab": {
          "base_uri": "https://localhost:8080/"
        },
        "id": "1mxxebtloqSg",
        "outputId": "3a9da546-0ff3-45c3-8e42-b87ae6b1aeaf"
      },
      "id": "1mxxebtloqSg",
      "execution_count": 32,
      "outputs": [
        {
          "output_type": "execute_result",
          "data": {
            "text/plain": [
              "['Бывший капитан « Манчестер Юнайтед » Уэйн Руни неплохо проводит время в перерыве на матчи сборных. В конце августа 31-летний нападающий объявил о завершении карьеры в национальной команде Англии, так что матчи отборочного турнира к чемпионату мира – 2018 в России ему не грозят. Вместо этого игрок, вернувшийся в этом сезоне в родной «Эвертон», посещает вечеринки в графстве Чешир, где у него есть дом за £6 млн, и не ограничивает себя в приеме алкоголя. Так, вечером 31 августа Руни был задержан за рулем собственного автомобиля по подозрению в вождении в нетрезвом виде. Футболист подъезжал к своему коттеджу, когда полицейские заметили что-то странное в его поведении и попросили остановиться. После быстрого разговора стражи правопорядка настояли на том, чтобы Руни проследовал с ними в участок. После еще одного допроса лучший бомбардир в истории сборной Англии был оставлен на ночь под присмотром полицейских, и, по информации Daily Mail, еще не вернулся домой. Накануне форвард «Эвертона» посетил шумную вечеринку в одном из окрестных баров, где, по сообщениям The Metro, танцевал на столах и распевал песни группы Oasis. Руни и раньше попадал в подобные неловкие ситуации – нападающий всегда был не прочь с размахом отметить радостные события в своей жизни. Например, в ноябре 2016-го, после победы сборной Англии над Шотландией в рамках отборочного турнира на грядущий мундиаль, футболист так повеселился в отеле, что присоединился к проходящей там свадьбе и зажигал до пяти утра, хотя не был знаком с молодоженами. Под конец мероприятия игрок едва мог стоять на ногах и выговаривать слова. «Руни пришел на вечеринку с Джагелкой ( Фил Джагелка – защитник «Эвертона» и сборной Англии. – «Газета.Ru») и был абсолютно никакой. Не мог связать двух слов и устоять на ногах, и никто не верил, что это капитан сборной Англии. Он один за другим сушил бокалы с красным вином», – поведал гость свадьбы в комментарии The Sun. Wayne Rooney apologises after pictures emerged of him socializing and \"drunk\" in the early hours of Sunday morning. pic.twitter.com/CQUKbj32nq Вскоре сборная Англии объявила о том, что капитан команды внезапно получил травму колена и досрочно вернется в расположение клуба. Позднее Руни попросил прощения за чересчур бурное празднование. «Уэйн приносит извинения за опубликованные фотографии. Несмотря на то, что все случилось в выходной день, он полностью осознает, что такое поведение недопустимо для человека его статуса. Уэйн хотел бы извиниться перед каждым юным болельщиком, который видел те фотографии», — приводит слова представителя игрока Sky Sports. Конечно, подобные эпизоды не могут испортить общего впечатления от прекрасной карьеры Руни в сборной, за которую он забил 53 мяча в 119 матчах (больше встреч в футболке «трех львов» провел только Питер Шилтон – 125), но они определенно не делают футболисту чести. Однако разнузданное поведение Руни ставило его и в более неприятные положения. Так, в 2010 году футболист угодил в секс-скандал: девушка легкого поведения Дженнифер Томпсон заявила в прессе, что знаменитый нападающий провел с ней семь ночей, хотя к тому моменту Руни был женат уже два года, а его супруга Колин ждала их первого сына Кайла. Никто из пары не подтвердил правдивости слов Томпсон, и громкого развода не последовало, хотя букмекерские конторы даже принимали на это ставки. Возможно, именно терпеливость жены помогла тогда сохранить карьеру Руни. Позднее девушка легкого поведения извинилась за опубликованные откровения, хотя не взяла своих слов обратно, а лишь заявила, что ей очень стыдно за ту боль, что она причинила избраннице футболиста. В настоящий момент в жизни Руни, казалось бы, все устаканилось: после скомканного сезона-2016/2017 под руководством Жозе Моуринью в стане «Манчестер Юнайтед», когда он появлялся в основном на замену, форвард вновь чувствует себя важным игроком на поле в составе «Эвертона». Начиная с 27 июля, когда «ириски» стартовали в Лиге Европы с третьего квалификационного раунда матчем против словакского «Ружомберока», Руни выходит в старте абсолютно во всех играх своей команды и проводит на поле по 85-90 минут. За это время нападающий отличился двумя голами и одной результативной передачей. Впереди групповой этап Лиги Европы и увлекательная борьба за место в верхней части таблицы Английской премьер-лиги (на данный момент «Эвертон» занимает лишь 12-е место с четырьмя очками, заработанными за три матча). Так что пьяные загулы и испорченная репутация – совсем не то, что нужно сейчас Руни, который недавно вернулся в родной клуб, где на него смотрят как на самого выдающегося выпускника академии и живой пример успеха в футболе. Ознакомиться с другими материалами, новостями и статистикой вы можете на странице хроники, а также в группах отдела спорта в социальных сетях Facebook и «Вконтакте» .',\n",
              " 'В Петербурге задержан 27-летний фанат «Зенита» Алексей Андрейчиков. Его и еще нескольких болельщиков клуба подозревают в нападении на трех милиционеров, произошедшем две недели назад. Как сообщили «Газете.Ru» в ГУВД , Андрейчикова задержали у Гостиного Двора. В отделе милиции выяснилось, что его приметы совпадают с объявленным в розыск болельщиком. Сейчас делом о нападении на милиционеров занимается петербургское управление Следственного комитета РФ. «Милиционерам нанесли множественные удары руками и ногами по голове и туловищу, — сообщил «Газете.Ru» старший помощник главы питерского управления СК РФ Сергей Капитонов. — В настоящее время решается вопрос о заключении Андрейчикова под стражу. Устанавливаются другие лица, причастные к преступлению». Андрейчиков работает фельдъегерем петербургском подразделении ФГУП «Главный центр специальной связи». Основная задача ведомства –- доставка секретной государственной корреспонденции и грузов. Кроме того, оно оказывает услуги частным лицам и компаниям. Все фельдъегери службы имеют право на ношение оружия. Во ФГУПе не стали комментировать задержание их сотрудника. По информации источника «Газеты.Ru» в правоохранительных органах, потерпевшие милиционеры опознали своего обидчика. Задержанный вину не признает. Напомним, 14 ноября 2010 года около 200 фанатов «Зенита» вышли на Невский после матча «Зенит» — «Ростов». Они праздновали досрочное завоевание клубом золотых медалей. Милиция пресекла шествие с помощью ОМОНа. На следующий день в блогах появилась информация, что в толпе фанатов видели лежащего на земле раненого милиционера. Однако ГУВД и питерское управление СК РФ не подтвердили эти данные. Сейчас следователи утверждают, что несколько фанатов «Зенита» все-таки напали на трех бойцов патрульно-постовой службы ГУВД. Это произошло у дома № 25 на Невском проспекте. В итоге стражи порядка получили множественные травмы. Агрессивные болельщики скрылись. Пострадавшие смогли описать приметы некоторых из них. Было возбуждено уголовное дело по статье «Применение насилия в отношении представителя власти». Подозреваемых объявили в розыск. Отметим, что Андрейчикова задержали после матча «Зенит» — «Крылья Советов», когда по всему Петербургу вновь прошли «уличные гуляния» в честь победы клуба в чемпионате России по футболу. Во время празднований «за нахождение в нетрезвом состоянии» и по другим административным статьям были задержаны порядка 100 болельщиков. Кроме того, у дворца спорта «Спартак» на окраине Петербурга произошла драка между фанатами «Зенита» из группировки «Мюзик-холл» и специально приехавшими из Москвы фанатами ЦСКА. Об этом инциденте известно только со слов зенитовских фанатов: в милиции утверждают, что у них нет информации о драке.',\n",
              " 'Футбольный тренер Андре Виллаш-Боаш , возглавлявший с 2014 по 2016 годы санкт-петербургский «Зенит» , с которым выиграл чемпионат, Кубок и Суперкубок России, снялся с ралли «Дакар-2018». Ради участия в сложнейшем ралли современности португальский специалист отказался от продления контракта с китайским «Шанхай СИПГ», под его руководством ставшим серебряным призером национального чемпионата. Виллаш-Боаш заявился на «Дакар-2018», который стартовал в Перу, а транзитом через Боливию финиширует в Аргентине, в составе команды «Овердрайв». Изначально португалец хотел заявиться на многодневке в классе мотоциклов, давним фанатом которых является, однако друзья из мира автоспорта отговорили его от этой затеи, так как для такого старта Андре пришлось бы потратить целый год на подготовку. В итоге Виллаш-Боаш был приглашен как пилот «Овердрайвом», а его штурманом стал Рубен Фариа, в 2013 году прошедший «Дакар» как мотогонщик. После трех этапов тандем шел в пятом десятке общего зачета автомобилистов, а по ходу четвертого дня соревнований располагался на 41-м месте, когда и произошла авария. На 330-километровом участке «Тойота» Виллаш-Боаша свалилась с высокой дюны, пролетела несколько метров и врезалась передней частью в землю. Португалец пожаловался на боли в спине и был госпитализирован. Фариа попытался закончить этап в одиночку, однако после медицинских тестов португальца, о результатах которых не сообщается, команда приняла решение сняться с ралли-рейда. «Просто хочу всем сказать, что со мной и Рубеном все в порядке – мы вернулись в лагерь. Машина упала с дюны, ударилась передней частью прямо о землю. К сожалению, «Дакар» для нас завершился. В следующий раз повезет больше! Спасибо всем за поддержку», – заявил Виллаш-Боаш. «Жаль, как минимум для самого Андре – он очень хорошо выступал, учитывая, что это был его первый «Дакар», – отметил глава команды «Овердрайв» Жан-Марк Фортен. В данный момент лидируют в классе автомобилей три экипажа «Пежо», которыми управляют опытнейшие раллийные гонщики – Стефан Петрансель , Себастьян Леб и Карлос Сайнс-старший, отец пилота «Формулы-1». «Дакар» – это настоящая цель и амбиция всей жизни. Знаю, что я должен через это пройти. Это не просто страсть или обязанность, а судьба. Через 5, 10 или 15 лет – не так важно, но я это сделаю, — рассказывал Виллаш-Боаш еще несколько лет назад. — Знаю, что когда-нибудь тоже проеду это знаменитое ралли. Если доживу. Пока же собираюсь побывать на этапе «Формулы-1» в Монако. Не пропускаю эту гонку уже 10 лет подряд». «Это семейное – мой дядя дважды участвовал в «Дакаре». К этому прикладывается и моя огромная страсть к автоспорту, — говорил португалец ВВС уже после того как заявился на «Дакар-2018». — Конечно, я собираюсь вернуться в футбол. Я просто хочу немного попробовать себя в своей страсти. Но моя профессиональная карьера – это моя профессиональная карьера. Я по-прежнему хочу добиться некоторых вещей в футболе». Сразу после ухода из «Шанхай СИПГ» Виллаш-Боаш рассказывал, что хотел бы работать в одном из четырех европейских чемпионатов – испанском, итальянском, немецком или французском. При этом специалист отверг возможность работы в Португалии в «Спортинге» или «Бенфике», так как является преданным болельщиком «Порту». По всей видимости, в Англии Андре не желает работать после не самого удачного опыта в лондонском «Челси», где португалец не нашел общего языка с командой и жаловался на отсутствие поддержки руководства. Сейчас некоторые СМИ называют Виллаша-Боаша наряду с Антонио Конте , нынешним наставником «Челси», главным кандидатом на пост главного тренера французского «Пари Сен-Жермен», одного из самых амбициозных и богатых клубов мира. Впрочем, на данный момент командой руководит испанец Унаи Эмери, и формально никаких предпосылок к его отставке на данный момент нет. Другие новости, материалы и статистику можно посмотреть на странице автоспорта, а также в группах отдела спорта в социальных сетях Facebook и «Вконтакте» .',\n",
              " 'Бывший полузащитник «Севильи», «Атлетико», «Арсенала», «Реала» , «Бенфики», «Эспаньола» и сборной Испании Хосе Антонио Рейес погиб в результате автомобильной аварии. Как сообщает AS, инцидент произошел в 1 июня на выезде из родного города 35-летнего футболиста Утреры. В настоящий момент подробности случившегося неизвестны. Стоит отметить, что в январе 2019 года Рейес заключил соглашение с испанским клубом «Эстремадура», перебравшись в команду из Китая. «Севилья» уже выразила соболезнования родным и близким футболиста — в составе андалузской команды Рейес трижды (в сезонах 2013/14, 2014/15 и 2015/16) поднимал над головой трофей Лиги Европы. Немало в списке клубов, за которые играл погибший атлет, и грандов европейского футбола. Так, вместе с «Арсеналом» Рейес брал золото чемпионата Англии (2003/04) и национального Кубка (2004/05); с «Реалом» он выиграл чемпионат Испании (2006/07), а с «Атлетико» дважды побеждал в Лиге Европы (2009/10, 2011/12). Что же касается выступлений за сборную Испании, то в активе футболиста 22 матча и четыре забитых мяча. На страшную новость уже отреагировал капитан «Реала» Серхио Рамос. «Сломлен. Разбит. У меня нет слов. Выражаю любовь и поддержку семье. Мы всегда будем помнить тебя, друг! Покойся с миром, брат», — написал Рамос в твиттере. Прокомментировал смерть Рейеса и президент испанской Ла Лиги Хавьер Тебас. «Наш мир покинул один из символов Примеры. Он был частью истории этого турнира и многих клубов, за которые играл. Будем молиться за тебя, Хосе Антонио Рейес», — отозвался о случившемся Тебас. Экс-защитник «Реала» и сборной Испании Альваро Арбелоа также поделился эмоциями от трагической смерти форварда. «Черт, какой удар. Мои самые искренние соболезнования семье, друзьям и родственникам. Мне очень жаль. Покойся с миром», — написал Арбелоа в твиттере. Не остался в стороне от трагедии и легенда «Арсенала» Тьерри Анри. Француз пожелал сил и мужества семье и друзьям ушедшего из жизни атлета. «Опустошен, услышав печальную новость о Хосе Антонио Рейесе. Прекрасный игрок, превосходный товарищ и исключительный человек. Желаю семье и друзьям Хосе сил и мужества, чтобы пережить это трудное время», — прокомментировал произошедшее Анри. В контексте случившегося с испанским спортсменом нельзя не вспомнить другой ужасный эпизод из летописи футбола. В центре этой истории — молодой аргентинец Эмилиано Сала, погибший в авиакатастрофе. Игрок был приобретен этой зимой после четырех лет выступлений за французский «Нант» выступающим в Английской премьер-лиге (АПЛ) «Кардифф Сити» за 15 млн фунтов стерлинга. Футболист успел прилететь в Уэльс на подписание контракта, попозировал для фотокорреспондентов с футболкой своего нового клуба, после чего на частном самолете отправился в Нант попрощаться со своей прежней командой. Мечта Салы была близка как никогда раньше: он очень хотел попасть в топ-клубы, и агент убедил его, что «Кардифф Сити» может стать трамплином для перехода в одну из ведущих команд АПЛ. Вылетевший 21 января в Великобританию из Нанта легкий одномоторный самолет под управлением пилота Дэвида Айбботсона, у которого, как выяснилось позже, не было лицензии на частные перевозки, через час запросил экстренную посадку на острове Гернси, а затем пропал с радаров. 22 января была начата спасательная операция, и после долгих передряг с финансированием мероприятий по поиску атлета (родственникам Салы удалось собрать средства на продолжение работ — известные футболисты и болельщики пожертвовали 300 тысяч евро) спасатели сначала обнаружили обломки самолета, а затем и тело Эмилиано, которое было извлечено на поверхность 7 января. Сала выступал за французские «Бордо», «Орлеан», «Ньор», «Кан» и «Нант». За «Кардифф» он не успел провести ни одного матча. Другие новости и материалы можно посмотреть на странице хроники , а также в группах отдела спорта в социальных сетях Facebook и «Вконтакте» .',\n",
              " 'Бывший вратарь клубов Национальной хоккейной лиги (НХЛ) Рэй Эмери трагически скончался во время отдыха с друзьями. Ранним воскресным утром, около 06:30, экс-голкипер решил отправиться на озеро Онтарио — самое нижнее и самое небольшое по площади в системе Великих озер — близ своего родного города Гамильтон, чтобы покупаться вместе с приятелями. Неожиданно канадец глубоко нырнул и долгое время не появлялся на поверхности. Друзья вскоре заподозрили что-то неладное и приступили к поискам Эмери. К процессу были привлечены службы правопорядка и скорой помощи. «К сожалению, все усилия по поискам на воде и на территории вблизи пирсов ни к чему не привели, — рассказал местный инспектор Марти Шуленберг изданию Spectator. — Эмери пошел с друзьями купаться, но, к несчастью, так и не появился на поверхности после очередного нырка». В конце концов уже бездыханное тело бывшего хоккеиста было обнаружено группой водолазов. Друзья, все еще пребывающие в шоке от происходящего, опознали бывшего вратаря. Предполагается, что произошел несчастный случай, и 35-летний афроканадец утонул без чьего-либо вмешательства. Полиция Гамильтона уже сделала официальное заявление о произошедшем. «15 июля в 14:50 пополудни было найдено тело бывшего игрока НХЛ Эмери, который был объявлен пропавшим без вести с раннего утра. Его тело было найдено очень близко от того места, где его видели в последний раз. Семья погибшего уже оповещена о случившемся. Причина смерти будет подтверждена позже», — гласит сообщение правоохранительных органов. Необычный темнокожий голкипер привлекал к себе внимание в течение всей своей не очень длинной, но весьма яркой карьеры. В 2001 году он был выбран канадским клубом «Оттава Сенаторз» в четвертом раунде драфта новичков под общим 99-м номером. С 2003 по 2008 год Эмери числился в составе основной команды, а с 2007-го стал почти бессменно занимать место в рамке ворот. Стабильная игра жесткого голкипера позволила «Оттаве» дойти до финала Кубка Стэнли в сезоне-2006/07. Там команда встретилась с «Анахайм Дакс» из Калифорнии. Финальная серия получилась практически в одну калитку: коллектив Эмери одержал победу только в одной встрече, проиграв четыре. Впрочем, сам выход «сенаторов» в финал уже считался отличным достижением. Однако после такой неудачи темнокожий голкипер перестал показывать свой привычный уровень игры. Появилась излишняя импульсивность, которая до поры до времени была скрыта, пока Эмери еще не вышел на первые роли в «Оттаве». Теперь он совершал много фолов, грубил соперникам, вступал с ними в драки. Вкупе с нестабильной игрой все это привело к тому, что «Сенаторз» не стали продлевать контракт с вратарем и отправили его в Континентальную хоккейную лигу, где он выступал за клуб «Атлант» из Московской области, а если быть точнее – из Мытищ. Там скандальный Эмери провел 36 матчей в сезоне-2008/09, запомнившись конфликтом с доктором команды Романом Соколовым. В матче против ярославского «Локомотива» игрок был заменен за провальное начало и три пропущенных шайбы и отправился на скамейку запасных. Медик заметил, что его подопечный сидит без головного убора и, обеспокоившись здоровьем хоккеиста, накинул ему кепку. Афроканадец оскорбился из-за этого жеста и нанес медику несколько ударов. Впоследствии Эмери принес извинения, а его агент Джей Пи Берри объяснил, что Соколов действовал против воли спортсмена и в целом вел себя некорректно. Несложно предположить, что надолго в России игрок не задержался. После единственного сезона в составе «Атланта» Эмери вернулся в НХЛ, где выступал за «Филадельфию Флайерз», «Анахайм Дакс» и «Чикаго Блэкхоукс». В составе «Чикаго» он даже стал обладателем Кубка Стэнли в сезоне-2012/13 — правда, в финальной серии ворота защищал только Кори Кроуфорд , а афроканадец выступал в роли статиста. Стоит отметить, что в свое второе пришествие в НХЛ хоккеист продолжал вести себя достаточно вызывающе и устраивать на льду драки, словно заправский тафгай. Неоднозначным был и его образ за пределами хоккейных арен: Эмери любил носить яркие серьги в одном ухе, разъезжал на белоснежных машинах и устраивал скандалы со своей невестой, которая однажды даже пришла в полицию Онтарио, обвинив игрока в жестоком обращении. При таком образе жизни карьера Эмери в профессиональном спорте завершилась довольно быстро — он провел на высшем уровне только 300 матчей. Всего спустя два года после завершения выступлений экс-хоккеист трагически погиб. Другие новости и материалы можно посмотреть на странице хроники , а также в группах отдела спорта в социальных сетях Facebook и «Вконтакте» .']"
            ]
          },
          "metadata": {},
          "execution_count": 32
        }
      ]
    },
    {
      "cell_type": "code",
      "source": [
        "get_response(TEXT, ft_index, modelFT, index_map)"
      ],
      "metadata": {
        "colab": {
          "base_uri": "https://localhost:8080/"
        },
        "id": "3GLuGzi1othP",
        "outputId": "c16d3d50-8997-49d7-98ac-13bf84d86813"
      },
      "id": "3GLuGzi1othP",
      "execution_count": 33,
      "outputs": [
        {
          "output_type": "execute_result",
          "data": {
            "text/plain": [
              "['Юниорский турнир по вольной борьбе, посвященный памяти трагически погибшего призера Олимпийских игр Бесика Кудухова, был омрачен массовой дракой. Стычка началась между одним из борцов и тренером его соперника. Как ни странно, инициатором выступил умудренный опытом наставник – сперва он начал кидаться в оппонента своего подопечного предметом, похожим на мяч для американского футбола, а когда тот пинком вынес данный «снаряд» за пределы настила, подошел к молодому человеку вплотную для серьезного разговора. Представитель тренерского штаба был недоволен судейским решением, но почему-то решил высказать это не арбитру, а атлету. После пары ласковых слов, которых на записи, к счастью, не слышно, специалист неожиданно нанес спортсмену хук слева, а затем и справа. Борец только пошатнулся и не успел ничем ответить — тут же между ним и агрессором вырос принявшийся разнимать оппонентов представитель охраны. Однако не тут-то было. Сзади к пострадавшему подкрался его соперник по поединку и несколько раз ударил по лицу – тоже безнаказанно. Стражи правопорядка успели вклиниваться между агрессивной связкой учитель-ученик и борцом ровно в тот момент, когда тот уже получил пару ударов, но еще не нанес ни одного в ответ. От такого зрелища публика мгновенно завелась и за пару секунд высыпала на настил, однако затем явно замешкалась, не зная, вершить справедливость или нет, а если да, то в отношении кого. В зале уже все смешалось – и соперники-борцы, и не в меру боевитый тренер куда-то исчезли. «Успокойтесь! Все сядьте на места! Будьте мужчинами! Мы проводим соревнования памяти великого борца! Не позорьте наш вид спорта», — вещал строгий женский голос откуда-то из динамиков арены. Немного потоптавшись на месте, толпа начала постепенно расходиться, все еще недовольно ропща. Вскоре в кадр вернулись оба борца, и судя по всему, схватка была продолжена. Тем не менее осадок от этого инцидента было уже ничем не загладить: грязная драка на таком мероприятии вызвала огромное возмущение у многих любителей единоборств, в том числе и у главных лиц Федерации спортивной борьбы России (ФСБР). В частности, президент ФСБР Михаил Мамиашвили пообещал участникам потасовки максимально жесткое наказание. «Нужно искоренить фундаментально подобные явления. Должна быть самая жесткая реакция, наказание должно быть серьезным. Конкретно по этому эпизоду дисциплинарным комитетом федерации будет вынесено объективно жесткое решение. Но только этой мерой данную проблему не решить. Сейчас во главу угла должна быть поставлена работа с руководителями региональных федераций и территориальных министерств. Спортсмены и тренеры же не существуют в безвоздушном пространстве, их командируют на соревнования регионы, которые должны в процессе принимать самое активное участие», — приводит слова Мамиашвили «Р-Спорт». Главный тренер сборной России по вольной борьбе Дзамболат Тедеев призвал наказать драчунов длительной дисквалификацией. «Моя позиция по этому вопросу всегда была однозначна — от спортсменов, которые не могут себя вести на ковре подобающим образом, надо избавляться путем дисквалификации. Такие пусть перепрофилируются и идут драться в бои без правил — в борцовской семье им делать нечего. Они не просто нас позорят, они еще и межнациональную рознь разжигают. Произошедшее снова показало — когда у борцов все хорошо, они никому не нужны, а когда такие вещи происходят, мы во всех СМИ», — цитирует Тедеева ТАСС. Представитель ГУ МВД Краснодарского края уже заверил, что по факту драки будет проведена проверка: «По данному факту в полицию заявления не поступало, но ГУ МВД назначена проверка по выявленным в сети видеоматериалам. Будут установлены все причины и обстоятельства, дана оценка действиям причастных лиц». Бесик Кудухов , в честь которого были организованы данные соревнования, собравшие около 200 сильнейших спортсменов со всей России, являлся бронзовым призером Олимпийских игр в Пекине-2008 и обладателем серебра Лондона-2012. Помимо этих достижений, российский борец осетинского происхождения четыре года подряд становился чемпионом мира – с 2007 по 2011-й, а также один раз выиграл чемпионат Европы и дважды – Кубок мира. 29 декабря 2013 года борец погиб в ДТП на федеральной трассе под Армавиром. Ему было всего 27 лет. Три года спустя Международный олимпийский комитет (МОК) объявил, что в допинг-пробе Кудухова нашли запрещенное вещество, но индийский атлет Йогешвар Дутт, завоевавший на Играх в Лондоне бронзу, заявил, что не хочет получать серебро вместо погибшего россиянина. С другими новостями и материалами вы можете ознакомиться на странице хроники, а также в группах отдела спорта в социальных сетях Facebook и «Вконтакте» .',\n",
              " 'Матч 2-го тура чемпионата России по футболу между «Ростовом» и московским «Спартаком» закончился скандалом. И дело не в голе экс-спартаковца Александра Зуева в ворота своей бывшей команды уже в добавленное время, который принес ростовчанам ничью (2:2). Вскоре после окончания встречи в социальных сетях начали появляться сообщения фанатов красно-белых, в которых говорилось, что их не выпускают с гостевой трибуны. Один из болельщиков «Спартака» Николай Сурин позднее опубликовал в своем твиттер-аккаунте видео с места событий. На ролике видно, как сотрудники ОМОНа врываются в толпу со столичными фанатами и начинают избивать людей резиновыми дубинками. «Заканчивается матч, все спокойно, болельщики идут в подтрибунку — в зону, где расположены буфеты и лестница для выхода на улицу. Понимаю, что очередь на выход растянулась метров на 100 вперед, а в самом ее начале огромная толпа, народ стоит плотно, как в час-пик. Проходит 10 минут, 15 минут. Люди начинают спрашивать у полицейских и стюардов, когда нас начнут выпускать со стадиона», — описал Сурин начало конфликта в интервью «Чемпионат.com». В чемпионате России существуют практика, когда болельщики гостевого сектора покидают стадион позднее, чтобы избежать конфронтации с фанатами соперника за пределами арены. Однако матч закончился ближе к полуночи, поэтому многие спешили уйти как можно быстрее. На еще одном видео из твиттера Сурина присутствуют кадры, как фанаты «Спартака» толпой наваливаются на кордон безопасности из стюардов, выкрикивая фразу «Один за всех и все за одного!». Конфликт со стюардами арены в Ростове-на-Дону и стал катализатором беспорядков, которые происходили позднее. По словам Сурина, представители ОМОНа били даже лежачих. «Спустя какое-то время начинается небольшая заварушка: кто-то машет руками, толкает друг друга. Дальше происходит следующее: неожиданно со спины в толпу влетают 30-40 омоновцев — с дубинками, в шлемах — и начинают всех расталкивать. Люди падают, друга друга сбивают с ног, бьют людей дубинками и электрошокерами — досталось даже лежащим», — добавил он. Произошедшее длилось, как сообщил фанат «Спартака», около 30-40 секунд. После стычки людей начали отпускать со стадиона, и через 45 минут после финального свистка гостевой сектор был пуст. Некоторые фанаты, находившиеся в других частях трибуны, и вовсе не увидели конфликта с ОМОНом. В среде болельщиков красно-белых допускают, что в толпе искали людей, которые во время матча использовали пиротехнику. С этим якобы связана и задержка с выходом со стадиона. Эту версию подтвердила в своем заявлении Российская премьер-лига (РПЛ). Согласно информации на сайте РПЛ, полиция провела операцию по выявлению наиболее активных нарушителей. А болельщики, использовавшие пиротехнику, были задержаны. В ходе операции другие фанаты «Спартака» попытались отбить задержанных, из-за чего завязалась стычка. Нарушители были доставлены в отделения полиции. По данным мэрии Ростова-на-Дону, задержаны восемь человек. Что касается пострадавших, то известно, что один обратился за медицинской помощью. В Российском футбольном союзе ( РФС ) пока не отреагировали на случившееся в официальном заявлении, однако представитель организации сообщил, что в ближайшее время последуют разбирательства эпизода с участием фанатов «Спартака», поскольку «такая ситуация на стадионах не должна повториться». «В организации матча участвуют клуб, полиция и РПЛ. Они должны делать все, чтобы игра проходила в комфортных для болельщиков условиях. При этом клубы проходят сертификацию безопасности, и если они не соответствует критериям, то не должны быть допущены к выступлению в чемпионате. Всем сторонам необходимо работать с фанатами, пресекать неправомерные действия. Но и реакция на нарушения должны быть адекватной. Мы надеемся, что РПЛ разберется в произошедшем в Ростове-на-дону», — заверили в РФС. Депутат Госдумы и член исполкома РФС Игорь Лебедев призвал фанатов красно-белых к официальному обращению, чтобы организация могла сделать запрос в МВД. «Как член комитета РФС по безопасности и работе с болельщиками жду обращения от фанатов «Спартака» с фактами нарушений со стороны ОМОНа для последующего запроса в органы МВД с просьбой проверить законность действий и наказать виновных», — написал Лебедев в твиттере. Что касается правовой оценки действий сотрудников ОМОНа, то в Росгвардии в беседе со Sports.ru отказались комментировать произошедшее до появления официальной информации от ведомства.',\n",
              " 'Спустя два дня после матча Лиги чемпионов между итальянской «Ромой» и московским ЦСКА до сих продолжают поступать новые сведения о последствиях поломки эскалатора в римском метро, спровоцировавшей падение людей друг на друга и страшную давку, в которой пострадали по большей части болельщики армейского клуба. «По состоянию на 9.00, в больницах города остаются шесть граждан России, пострадавших в римском метро. Врачами отмечается положительная динамика. Оказываем им всяческую поддержку и содействие!» — гласит последний пост в официальном твиттере посольства России в Италии. В списке травмированных изначально находились 16 болельщиков ЦСКА, из которых троим пришлось перенести операцию, а еще у двоих был обнаружен перелом обеих ног. Анна Филина — девушка одного из пострадавших фанатов Дмитрия Тюрина , который мог лишиться ноги на хирургическом столе, — критически отозвалась о медицинской службе Рима. «Сейчас я нахожусь в госпитале, мой молодой человек — в реанимации. Мы пытаемся понять, что будет дальше. Вроде бы прогнозы хорошие, но, похоже, здесь пытаются отказать нам в помощи. Итальянцы вообще не хотят ни помогать, ни ориентировать нас, — приводит слова девушки RT. — В консульстве меня информировали, что происходит. Ночью мне написали, когда закончилась операция. Мы писали консулу сообщение, что если нужна платная операция, то мы будем делать ее. Дима — единственный человек, у которого стоял вопрос ампутации. Мы уже не думали о том, сколько это будет стоить». К счастью, в ходе операции, которая длилась несколько часов, врачи пришли к выводу, что ампутация ноги не потребуется. Тем временем в итальянских СМИ появляется противоречивая информация о причинах поломки эскалатора. Информационное агентство ANSA сообщило, что эту механическую лестницу требовалось починить еще в 2015 году. «Компания Atac, которая занимается обслуживанием общественного транспорта Рима, обращалась к властям города три года назад с просьбой срочно отреагировать на состояние эскалатора и профинансировать ремонт», — говорится на сайте агентства. Отмечается, что запрос был отправлен повторно в 2016 году, причем в тексте заявки утверждалось, что городская администрация уже «задолжала» достаточно средств, которые должна была когда-то выделить на ремонт транспортных узлов. Судя по всему, все эти призывы остались без ответа. Напомним, эскалатор с болельщиками ЦСКА неожиданно начал двигаться в очень быстром темпе (скорее всего, сорвался со стопора, контролирующего скорость спуска), что привело к падению множества людей и давке. Остановить лестницу удалось только после того, как несколько ступеней зажевало. «Как я понимаю, из-за большой скорости одна ступенька заехала вкривь, и из-за этого последующие вздыбились и начали ломаться. Люди спотыкались, падали, резались об острые края, как о ножи, ломали ноги…», — приводит «Чемпионат.com» слова одного из фанатов ЦСКА, попавших в ту давку, по имени Сергей. При этом официальные лица Италии утверждают, что поломка эскалатора произошла вовсе не из-за длительной эксплуатации без ремонта, а по вине самих болельщиков московского клуба, которые якобы устраивали бешеные пляски на ступеньках, массово занимая полотно, не рассчитанное на такие нагрузки. «Я считаю, что там были десятки пьяных псевдоболельщиков российской команды, которые начали эти беспорядки. Эскалаторы не предназначены для того, чтобы на них прыгали», — заявил министр внутренних дел страны Маттео Сальвини в эфире радиостанции RTL. При этом функционер все же признал, что на некоторых станциях метро давно пора провести хороший ремонт. Мэр Рима Вирджиния Раджи подтвердила версию о танцах фанатов на эскалаторе, сославшись на некоторых свидетелей, но без конкретных имен. При этом на видеозаписях инцидента, снятых очевидцами в метро, нельзя увидеть никаких танцев и прыжков. Недавно в сети появился новый ролик произошедшего, на котором отчетливо заметно, что никто из спускающихся на полотне людей не совершает резких движений — эскалатор сам несется вниз с неестественной скоростью. «Обвинения итальянской полиции, что кто-то там прыгал, — полный бред. Все адекватные люди и понимают: с такими вещами не шутят. Покричать могут, но не скакать на ступеньках. Просто итальянцам надо что-то придумать — вот и лепят отмазки», — рассказал очевидец инцидента Сергей. pic.twitter.com/0WsHNZrOlY То же самое подтвердил едва не попавший в давку хирург Дмитрий Павлов , который также является болельщиком ЦСКА. «Информация про прыжки — это ложь итальянских властей. Такого не было, никто не скакал, никто не прыгал. Будучи в первом десятке людей, которые зашли на этот эскалатор, я подтверждаю, и видеокамеры — в помощь. Мы даже песен не пели, просто ехали на футбольный матч, до него оставалось меньше часа, — рассказал Павлов в эфире телеканала «Царьград». — В какой-то момент эскалатор стал набирать скорость. Мы подумали, что это какая-то шутка работников метро. Но эта шутка перестала быть таковой, когда скорость стала становиться все быстрее и быстрее. Люди стояли плотно, и в конце, на спуске, началась страшная давка. Я успел выскочить одним из первых. А потом началось месиво. Мы стали выдергивать за руки ребят и девчонок из толпы и таким образом, наверное, спасли жизни болельщикам. Даже мне, практикующему хирургу, в какой-то момент стало нехорошо от такой картины». Также врач отметил, что «скорая помощь» добиралась до раненых 30-40 минут, а медики поначалу спустились в метро без носилок, из-за чего потеряли драгоценное время. Другие новости и материалы можно посмотреть на странице хроники , а также в группах отдела спорта в социальных сетях Facebook и «Вконтакте» .',\n",
              " 'В результате столкновения пассажирского экспресса с грузовым составом в американском штате Южная Каролина два человека погибли, более сотни человек получили травмы разной степени тяжести. Один из пострадавших находится в критическом состоянии, сообщает USA Today. Все пострадавшие были доставлены в близлежащие госпитали и больницы. В поезде находились 139 пассажиров и восемь членов экипажа. К вечеру воскресенья, 4 февраля, количество пострадавших достигло 116 человек, сообщил губернатор Южной Каролины Генри Макмастер. Он отметил, что в катастрофе погибли кондуктор и инженер из локомотивной бригады пассажирского поезда Amtrack 91, следовавшего из Нью-Йорка в Майами. Вскоре стали известны имена погибших железнодорожников — 54-летний инженер Майкл Кемпф из Саванны и 36-летний кондуктор Майкл Целла из Оранж Парк. Amtrak столкнулся с грузовым составом CSX утром воскресенья. «Очевидно, что они не должны были встретиться там», — заявил Макмастер, добавив, что «кажется, что Amtrak находился на неверном пути». Грузовой поезд при этом находился на нужной колее. Грузовой состав CSX был неподвижен, а пассажирский Amtrak врезался в него на скорости «примерно в 59 миль в час» (95 км/ч — «Газета.Ru»), отметил губернатор. Двигатели товарняка «раскурочены», подчеркнул Макмастер, а локомотив пассажирского поезда «едва можно распознать». Президенту США Дональду Трампу «незамедлительно сообщили о железнодорожной катастрофе в Южной Каролине, он получает регулярные уведомления [о ходе дела]», отметила заместитель пресс-секретаря Белого Дома Линдси Уолтерс. «Мы думаем и молимся о всех, пострадавших в этой катастрофе», — отметила Уолтерс. На месте аварии были разлиты около 5 тыс. галлонов (20 тыс. литров) жидкого топлива, туда были отправлены команды HAZMAT (Управление по работе с опасными веществами — «Газета.Ru»). Горючее было собрано, угроза местным жителям ликвидирована. Это уже третья катастрофа со смертельным исходом с участием пассажирских поездов Amtrak менее чем за два месяца. В среду, 31 января, пассажирский поезд, перевозивший конгрессменов от Республиканской партии , столкнулся с мусоровозом в сельской области штата Виргиния. В столкновении погиб водитель грузовика, пассажиры автомобиля были ранены. В 2015 году поезд Amtrak сошел с пути в городе Филадельфия, штат Пенсильвания. В железнодорожной катастрофе погибли 8 человек, а более 200 горожан были ранены. Пресс-служба полицейских сил Мексики сообщила 20 января о столкновении поезда и внедорожника. По предварительным данным, инцидент произошел 18 января на железнодорожном переезде в штате Халиско. Водитель, управлявший пикапом, попытался проскочить железнодорожные пути перед приближающимся пассажирским поездом, однако не рассчитал возможности машины. Машинист локомотива попытался затормозить, однако уже было поздно. В этом происшествии погибли пять, а пострадали более десяти человек. Катастрофы с участием железнодорожного транспорта случаются и в Старом Свете. 22 декабря неподалеку от деревни Критцендорф в Австрии столкнулись два поезда. О катастрофе сообщило местное телевидение. По информации пожарной части земли Нижняя Австрия, несколько человек погибли. Также отмечается, что около 20 человек пострадали. При столкновении поездов два вагона, в которых находились пассажиры, опрокинулись. 14 декабря на юге Франции в коммуне Милла поезд столкнулся со школьным автобусом, в результате чего погибли четверо детей. Погибшие — школьники в возрасте от 13 до 17 лет. Столкновение произошло на железнодорожном переезде в месте под названием Лос Палаус. В результате столкновения автобус разломило пополам. 6 декабря в результате столкновения пассажирского поезда National Express и грузового поезда DB Cargo под немецким Дюссельдорфом пострадали 47 человек. «В поезде были обнаружены 155 человек, 41 человек пострадал, еще трое человек получили травмы средней степени тяжести и трое — с тяжелыми травмами», — говорится в сообщении.',\n",
              " 'Полузащитник «Спартака» Аяз Гулиев напал на пешехода во время дорожного конфликта на одной из улиц Москвы. Инцидент произошел 10 апреля на Краснопрудной улице. Как сообщается, футболист московской команды не остановился на светофоре и проехал на запрещающий сигнал. В этот момент по пешеходному переходу уже начали идти люди, одного из которых и задел Гулиев своей машиной. По свидетельствам очевидцев, пешеход, которым оказался 29-летний гражданин США Майкл Коу Джон Эли, легко стукнул машину игрока, видимо, призывая того к порядку. Но это совсем не понравилось футболисту. Гулиев выскочил из своей машины и ударил американца в лицо. Согласно записи с камер видеонаблюдения, футболист после короткой стычки хотел сесть обратно в автомобиль, но увидел, что Эли пытается скрыться. Полузащитник догнал его на пути к трамвайной остановке и начал драку. «Бедолага не мог вымолвить ни слова, видимо, потому что он американец, не говорил по-русски. У пешехода все лицо было в крови, мы были в ужасе!» — рассказали очевидцы «МК». Еще одна свидетельница заявила, что потерпевший никак не трогал машину Гулиева. После столкновения он просто обошел ее и хотел пройти дальше. «Мы стояли с дочкой на трамвайной остановке в сторону Сокольников. Как раз лицом к переходу. И вот на Краснопрудной загорелся зеленый, как раз напротив остановки. И толпа народа пошла. Людей было много. И поехал этот молодой человек. Не знаю, кто он, что он. Но он посчитал, что на зеленый для пешеходов он может ехать. Капотом он зацепил второго молодого человека. Молодой человек не упал, а просто обошел машину и пошел дальше по переходу. Этот парень выскочил из машины и дал ему по лицу. Но не сильно. И вернулся в машину. Потом он увидел, что молодой человек не пошел дальше, а пошел к нам на остановку. То есть полулочки перешел», — поделилась подробностями она. Также она отметила, что после драки, когда лицо потерпевшего все было залито кровью, водитель машины начал его успокаивать и не давал ему уйти. «Этот опять выскочил из машины, подбежал к парню и начал его бить. Он ударил его в лицо, после чего полилась кровь. Я развернула ребенка, чтобы она на это не смотрела. Подбежали бабульки, потом девушка подбежала, начала орать. А я в этот момент начала звонить в полицию, — цитирует наблюдавшую за всем женщину «Рен ТВ». — Этот парень присел, упал. У него кровища лилась. А другой уже понял, что пахнет жареным, и начал его успокаивать. Избитый парень хотел уйти, но второй начал его останавливать. Не знаю, что он ему говорил. Парень уже почти дошел туда, где начал переходить улицу, но к тому моменту подъехали уже три полицейские машины», — рассказала свидетельница. Вскоре на место происшествия прибыли полицейские машины. У Гулиева забрали права. У американского гражданина врачи скорой помощи, которые также прибыли на место, диагностировали перелом носа, однако от госпитализации Эли отказался. Он предпочел проехать вместе с Гулиевым в отделение полиции. Как сообщается, уже в участке футболист несколько раз принес извинения потерпевшему и выразил желание оплатить все визиты Майкла к врачам. Также, по сообщению источника в правоохранительных органах, Аяз предложил американцу денег. Потерпевшего такой расклад устроил, и он написал заявление, что претензий к хавбеку «Спартака» не имеет. В отношении футболиста было заведено административное дело по факту проезда на запрещающий сигнал светофора. Таким образом, единственное, что грозит Гулиеву – это штраф в размере тысячи рублей, который подразумевает данная статья. «Прибывшими на место сотрудниками полиции участники конфликта были установлены и доставлены в территориальный отдел полиции, где пешеходом было написано заявление о том, что он претензий к водителю не имеет. В отношении водителя возбуждено дело об административном правонарушении по ст. 12.12 КоАП РФ», — говорится в сообщении пресс-службы ГУ МВД России по городу Москве. Стоит отметить, что свою иномарку Гулиев приобрел в конце 2018 года. За этот небольшой срок у футболиста уже накопилось порядка 200 штрафов, которые в основном связаны с превышениями скорости. Игрок пока оплатил только часть штрафов, у него еще имеются задолженности в размере 96 тыс. рублей. В связи с этой историей трудно не вспомнить еще одно резонансное дело, которое сейчас на слуху. В октябре 2018 года нападающий «Зенита» Александр Кокорин и полузащитник «Краснодара» Павел Мамаев напали на водителя ведущей Первого канала Ольги Ушаковой Виталия Соловчука. Конфликт произошел возле ночного клуба, где футболисты праздновали десятилетие своей дружбы. Как сообщается, драка произошла после того, как Соловчук оскорбил игроков, назвав их петухами. 11 апреля в Пресненском суде города Москвы Соловчук уже дал свои показания, однако правдивость его слов адвокаты поставили под сомнения. Татьяна Стукалова, которая представляет интересы Александра Кокорина , обвинила водителя в том, что большая часть его показаний строится на лжи. Примечательно, что Гулиев однажды высказался о деле Кокорина и Мамаева. Он заявил, что не одобряет подобного поведения, но и критиковать игроков, не зная ситуации целиком, не может. «Не могу одобрять истории Кокорина и Мамаева, но и лезть со своим мнением — тоже. Если человек что-то делает — это его желание. Не могу критиковать Кокорина и Мамаева. Мы же до конца не знаем ситуации, что там происходило. У мужчин так бывает: что-то перемкнуло, пошел, что-то натворил. Мне кажется, в России это не такая уж и редкость», — заключил Гулиев. Другие новости и материалы можно посмотреть на странице хроники , а также в группах отдела спорта в социальных сетях Facebook и «Вконтакте» .']"
            ]
          },
          "metadata": {},
          "execution_count": 33
        }
      ]
    },
    {
      "cell_type": "code",
      "source": [],
      "metadata": {
        "id": "dCWslgyto0R9"
      },
      "id": "dCWslgyto0R9",
      "execution_count": null,
      "outputs": []
    }
  ],
  "metadata": {
    "kernelspec": {
      "display_name": "Python 3 (ipykernel)",
      "language": "python",
      "name": "python3"
    },
    "language_info": {
      "codemirror_mode": {
        "name": "ipython",
        "version": 3
      },
      "file_extension": ".py",
      "mimetype": "text/x-python",
      "name": "python",
      "nbconvert_exporter": "python",
      "pygments_lexer": "ipython3",
      "version": "3.9.15"
    },
    "colab": {
      "provenance": []
    }
  },
  "nbformat": 4,
  "nbformat_minor": 5
}